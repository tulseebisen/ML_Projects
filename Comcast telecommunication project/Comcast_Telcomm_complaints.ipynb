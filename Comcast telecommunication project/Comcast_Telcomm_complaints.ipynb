{
 "cells": [
  {
   "cell_type": "markdown",
   "metadata": {},
   "source": [
    "# Comcast telecommunication Project Information"
   ]
  },
  {
   "cell_type": "markdown",
   "metadata": {},
   "source": [
    "### Importing Libraries"
   ]
  },
  {
   "cell_type": "code",
   "execution_count": 1,
   "metadata": {},
   "outputs": [],
   "source": [
    "import numpy as np\n",
    "import pandas as pd\n",
    "import matplotlib.pyplot as plt\n",
    "import seaborn as sns\n",
    "%matplotlib inline"
   ]
  },
  {
   "cell_type": "markdown",
   "metadata": {},
   "source": [
    "### Loading Dataset"
   ]
  },
  {
   "cell_type": "code",
   "execution_count": 2,
   "metadata": {},
   "outputs": [],
   "source": [
    "df = pd.read_csv(\"Comcast_telecom_complaints_data.csv\")"
   ]
  },
  {
   "cell_type": "code",
   "execution_count": 3,
   "metadata": {},
   "outputs": [
    {
     "data": {
      "text/html": [
       "<div>\n",
       "<style scoped>\n",
       "    .dataframe tbody tr th:only-of-type {\n",
       "        vertical-align: middle;\n",
       "    }\n",
       "\n",
       "    .dataframe tbody tr th {\n",
       "        vertical-align: top;\n",
       "    }\n",
       "\n",
       "    .dataframe thead th {\n",
       "        text-align: right;\n",
       "    }\n",
       "</style>\n",
       "<table border=\"1\" class=\"dataframe\">\n",
       "  <thead>\n",
       "    <tr style=\"text-align: right;\">\n",
       "      <th></th>\n",
       "      <th>Ticket #</th>\n",
       "      <th>Customer Complaint</th>\n",
       "      <th>Date</th>\n",
       "      <th>Date_month_year</th>\n",
       "      <th>Time</th>\n",
       "      <th>Received Via</th>\n",
       "      <th>City</th>\n",
       "      <th>State</th>\n",
       "      <th>Zip code</th>\n",
       "      <th>Status</th>\n",
       "      <th>Filing on Behalf of Someone</th>\n",
       "    </tr>\n",
       "  </thead>\n",
       "  <tbody>\n",
       "    <tr>\n",
       "      <th>0</th>\n",
       "      <td>250635</td>\n",
       "      <td>Comcast Cable Internet Speeds</td>\n",
       "      <td>22-04-15</td>\n",
       "      <td>22-Apr-15</td>\n",
       "      <td>3:53:50 PM</td>\n",
       "      <td>Customer Care Call</td>\n",
       "      <td>Abingdon</td>\n",
       "      <td>Maryland</td>\n",
       "      <td>21009</td>\n",
       "      <td>Closed</td>\n",
       "      <td>No</td>\n",
       "    </tr>\n",
       "    <tr>\n",
       "      <th>1</th>\n",
       "      <td>223441</td>\n",
       "      <td>Payment disappear - service got disconnected</td>\n",
       "      <td>04-08-15</td>\n",
       "      <td>04-Aug-15</td>\n",
       "      <td>10:22:56 AM</td>\n",
       "      <td>Internet</td>\n",
       "      <td>Acworth</td>\n",
       "      <td>Georgia</td>\n",
       "      <td>30102</td>\n",
       "      <td>Closed</td>\n",
       "      <td>No</td>\n",
       "    </tr>\n",
       "    <tr>\n",
       "      <th>2</th>\n",
       "      <td>242732</td>\n",
       "      <td>Speed and Service</td>\n",
       "      <td>18-04-15</td>\n",
       "      <td>18-Apr-15</td>\n",
       "      <td>9:55:47 AM</td>\n",
       "      <td>Internet</td>\n",
       "      <td>Acworth</td>\n",
       "      <td>Georgia</td>\n",
       "      <td>30101</td>\n",
       "      <td>Closed</td>\n",
       "      <td>Yes</td>\n",
       "    </tr>\n",
       "    <tr>\n",
       "      <th>3</th>\n",
       "      <td>277946</td>\n",
       "      <td>Comcast Imposed a New Usage Cap of 300GB that ...</td>\n",
       "      <td>05-07-15</td>\n",
       "      <td>05-Jul-15</td>\n",
       "      <td>11:59:35 AM</td>\n",
       "      <td>Internet</td>\n",
       "      <td>Acworth</td>\n",
       "      <td>Georgia</td>\n",
       "      <td>30101</td>\n",
       "      <td>Open</td>\n",
       "      <td>Yes</td>\n",
       "    </tr>\n",
       "    <tr>\n",
       "      <th>4</th>\n",
       "      <td>307175</td>\n",
       "      <td>Comcast not working and no service to boot</td>\n",
       "      <td>26-05-15</td>\n",
       "      <td>26-May-15</td>\n",
       "      <td>1:25:26 PM</td>\n",
       "      <td>Internet</td>\n",
       "      <td>Acworth</td>\n",
       "      <td>Georgia</td>\n",
       "      <td>30101</td>\n",
       "      <td>Solved</td>\n",
       "      <td>No</td>\n",
       "    </tr>\n",
       "  </tbody>\n",
       "</table>\n",
       "</div>"
      ],
      "text/plain": [
       "  Ticket #                                 Customer Complaint      Date  \\\n",
       "0   250635                      Comcast Cable Internet Speeds  22-04-15   \n",
       "1   223441       Payment disappear - service got disconnected  04-08-15   \n",
       "2   242732                                  Speed and Service  18-04-15   \n",
       "3   277946  Comcast Imposed a New Usage Cap of 300GB that ...  05-07-15   \n",
       "4   307175         Comcast not working and no service to boot  26-05-15   \n",
       "\n",
       "  Date_month_year         Time        Received Via      City     State  \\\n",
       "0       22-Apr-15   3:53:50 PM  Customer Care Call  Abingdon  Maryland   \n",
       "1       04-Aug-15  10:22:56 AM            Internet   Acworth   Georgia   \n",
       "2       18-Apr-15   9:55:47 AM            Internet   Acworth   Georgia   \n",
       "3       05-Jul-15  11:59:35 AM            Internet   Acworth   Georgia   \n",
       "4       26-May-15   1:25:26 PM            Internet   Acworth   Georgia   \n",
       "\n",
       "   Zip code  Status Filing on Behalf of Someone  \n",
       "0     21009  Closed                          No  \n",
       "1     30102  Closed                          No  \n",
       "2     30101  Closed                         Yes  \n",
       "3     30101    Open                         Yes  \n",
       "4     30101  Solved                          No  "
      ]
     },
     "execution_count": 3,
     "metadata": {},
     "output_type": "execute_result"
    }
   ],
   "source": [
    "df.head()"
   ]
  },
  {
   "cell_type": "code",
   "execution_count": 4,
   "metadata": {},
   "outputs": [
    {
     "name": "stdout",
     "output_type": "stream",
     "text": [
      "Ticket #                       0\n",
      "Customer Complaint             0\n",
      "Date                           0\n",
      "Date_month_year                0\n",
      "Time                           0\n",
      "Received Via                   0\n",
      "City                           0\n",
      "State                          0\n",
      "Zip code                       0\n",
      "Status                         0\n",
      "Filing on Behalf of Someone    0\n",
      "dtype: int64\n"
     ]
    }
   ],
   "source": [
    "print(df.isnull().sum())"
   ]
  },
  {
   "cell_type": "markdown",
   "metadata": {},
   "source": [
    "##### There are no Nan values present in Dataset"
   ]
  },
  {
   "cell_type": "code",
   "execution_count": 5,
   "metadata": {},
   "outputs": [
    {
     "data": {
      "text/html": [
       "<div>\n",
       "<style scoped>\n",
       "    .dataframe tbody tr th:only-of-type {\n",
       "        vertical-align: middle;\n",
       "    }\n",
       "\n",
       "    .dataframe tbody tr th {\n",
       "        vertical-align: top;\n",
       "    }\n",
       "\n",
       "    .dataframe thead th {\n",
       "        text-align: right;\n",
       "    }\n",
       "</style>\n",
       "<table border=\"1\" class=\"dataframe\">\n",
       "  <thead>\n",
       "    <tr style=\"text-align: right;\">\n",
       "      <th></th>\n",
       "      <th>Ticket #</th>\n",
       "      <th>Customer Complaint</th>\n",
       "      <th>Date</th>\n",
       "      <th>Date_month_year</th>\n",
       "      <th>Time</th>\n",
       "      <th>Received Via</th>\n",
       "      <th>City</th>\n",
       "      <th>State</th>\n",
       "      <th>Zip code</th>\n",
       "      <th>Status</th>\n",
       "      <th>Filing on Behalf of Someone</th>\n",
       "    </tr>\n",
       "  </thead>\n",
       "  <tbody>\n",
       "    <tr>\n",
       "      <th>count</th>\n",
       "      <td>2224</td>\n",
       "      <td>2224</td>\n",
       "      <td>2224</td>\n",
       "      <td>2224</td>\n",
       "      <td>2224</td>\n",
       "      <td>2224</td>\n",
       "      <td>2224</td>\n",
       "      <td>2224</td>\n",
       "      <td>2224.000000</td>\n",
       "      <td>2224</td>\n",
       "      <td>2224</td>\n",
       "    </tr>\n",
       "    <tr>\n",
       "      <th>unique</th>\n",
       "      <td>2224</td>\n",
       "      <td>1841</td>\n",
       "      <td>91</td>\n",
       "      <td>91</td>\n",
       "      <td>2190</td>\n",
       "      <td>2</td>\n",
       "      <td>928</td>\n",
       "      <td>43</td>\n",
       "      <td>NaN</td>\n",
       "      <td>4</td>\n",
       "      <td>2</td>\n",
       "    </tr>\n",
       "    <tr>\n",
       "      <th>top</th>\n",
       "      <td>370293</td>\n",
       "      <td>Comcast</td>\n",
       "      <td>24-06-15</td>\n",
       "      <td>24-Jun-15</td>\n",
       "      <td>2:13:31 PM</td>\n",
       "      <td>Customer Care Call</td>\n",
       "      <td>Atlanta</td>\n",
       "      <td>Georgia</td>\n",
       "      <td>NaN</td>\n",
       "      <td>Solved</td>\n",
       "      <td>No</td>\n",
       "    </tr>\n",
       "    <tr>\n",
       "      <th>freq</th>\n",
       "      <td>1</td>\n",
       "      <td>83</td>\n",
       "      <td>218</td>\n",
       "      <td>218</td>\n",
       "      <td>2</td>\n",
       "      <td>1119</td>\n",
       "      <td>63</td>\n",
       "      <td>288</td>\n",
       "      <td>NaN</td>\n",
       "      <td>973</td>\n",
       "      <td>2021</td>\n",
       "    </tr>\n",
       "    <tr>\n",
       "      <th>mean</th>\n",
       "      <td>NaN</td>\n",
       "      <td>NaN</td>\n",
       "      <td>NaN</td>\n",
       "      <td>NaN</td>\n",
       "      <td>NaN</td>\n",
       "      <td>NaN</td>\n",
       "      <td>NaN</td>\n",
       "      <td>NaN</td>\n",
       "      <td>47994.393435</td>\n",
       "      <td>NaN</td>\n",
       "      <td>NaN</td>\n",
       "    </tr>\n",
       "    <tr>\n",
       "      <th>std</th>\n",
       "      <td>NaN</td>\n",
       "      <td>NaN</td>\n",
       "      <td>NaN</td>\n",
       "      <td>NaN</td>\n",
       "      <td>NaN</td>\n",
       "      <td>NaN</td>\n",
       "      <td>NaN</td>\n",
       "      <td>NaN</td>\n",
       "      <td>28885.279427</td>\n",
       "      <td>NaN</td>\n",
       "      <td>NaN</td>\n",
       "    </tr>\n",
       "    <tr>\n",
       "      <th>min</th>\n",
       "      <td>NaN</td>\n",
       "      <td>NaN</td>\n",
       "      <td>NaN</td>\n",
       "      <td>NaN</td>\n",
       "      <td>NaN</td>\n",
       "      <td>NaN</td>\n",
       "      <td>NaN</td>\n",
       "      <td>NaN</td>\n",
       "      <td>1075.000000</td>\n",
       "      <td>NaN</td>\n",
       "      <td>NaN</td>\n",
       "    </tr>\n",
       "    <tr>\n",
       "      <th>25%</th>\n",
       "      <td>NaN</td>\n",
       "      <td>NaN</td>\n",
       "      <td>NaN</td>\n",
       "      <td>NaN</td>\n",
       "      <td>NaN</td>\n",
       "      <td>NaN</td>\n",
       "      <td>NaN</td>\n",
       "      <td>NaN</td>\n",
       "      <td>30056.500000</td>\n",
       "      <td>NaN</td>\n",
       "      <td>NaN</td>\n",
       "    </tr>\n",
       "    <tr>\n",
       "      <th>50%</th>\n",
       "      <td>NaN</td>\n",
       "      <td>NaN</td>\n",
       "      <td>NaN</td>\n",
       "      <td>NaN</td>\n",
       "      <td>NaN</td>\n",
       "      <td>NaN</td>\n",
       "      <td>NaN</td>\n",
       "      <td>NaN</td>\n",
       "      <td>37211.000000</td>\n",
       "      <td>NaN</td>\n",
       "      <td>NaN</td>\n",
       "    </tr>\n",
       "    <tr>\n",
       "      <th>75%</th>\n",
       "      <td>NaN</td>\n",
       "      <td>NaN</td>\n",
       "      <td>NaN</td>\n",
       "      <td>NaN</td>\n",
       "      <td>NaN</td>\n",
       "      <td>NaN</td>\n",
       "      <td>NaN</td>\n",
       "      <td>NaN</td>\n",
       "      <td>77058.750000</td>\n",
       "      <td>NaN</td>\n",
       "      <td>NaN</td>\n",
       "    </tr>\n",
       "    <tr>\n",
       "      <th>max</th>\n",
       "      <td>NaN</td>\n",
       "      <td>NaN</td>\n",
       "      <td>NaN</td>\n",
       "      <td>NaN</td>\n",
       "      <td>NaN</td>\n",
       "      <td>NaN</td>\n",
       "      <td>NaN</td>\n",
       "      <td>NaN</td>\n",
       "      <td>99223.000000</td>\n",
       "      <td>NaN</td>\n",
       "      <td>NaN</td>\n",
       "    </tr>\n",
       "  </tbody>\n",
       "</table>\n",
       "</div>"
      ],
      "text/plain": [
       "       Ticket # Customer Complaint      Date Date_month_year        Time  \\\n",
       "count      2224               2224      2224            2224        2224   \n",
       "unique     2224               1841        91              91        2190   \n",
       "top      370293            Comcast  24-06-15       24-Jun-15  2:13:31 PM   \n",
       "freq          1                 83       218             218           2   \n",
       "mean        NaN                NaN       NaN             NaN         NaN   \n",
       "std         NaN                NaN       NaN             NaN         NaN   \n",
       "min         NaN                NaN       NaN             NaN         NaN   \n",
       "25%         NaN                NaN       NaN             NaN         NaN   \n",
       "50%         NaN                NaN       NaN             NaN         NaN   \n",
       "75%         NaN                NaN       NaN             NaN         NaN   \n",
       "max         NaN                NaN       NaN             NaN         NaN   \n",
       "\n",
       "              Received Via     City    State      Zip code  Status  \\\n",
       "count                 2224     2224     2224   2224.000000    2224   \n",
       "unique                   2      928       43           NaN       4   \n",
       "top     Customer Care Call  Atlanta  Georgia           NaN  Solved   \n",
       "freq                  1119       63      288           NaN     973   \n",
       "mean                   NaN      NaN      NaN  47994.393435     NaN   \n",
       "std                    NaN      NaN      NaN  28885.279427     NaN   \n",
       "min                    NaN      NaN      NaN   1075.000000     NaN   \n",
       "25%                    NaN      NaN      NaN  30056.500000     NaN   \n",
       "50%                    NaN      NaN      NaN  37211.000000     NaN   \n",
       "75%                    NaN      NaN      NaN  77058.750000     NaN   \n",
       "max                    NaN      NaN      NaN  99223.000000     NaN   \n",
       "\n",
       "       Filing on Behalf of Someone  \n",
       "count                         2224  \n",
       "unique                           2  \n",
       "top                             No  \n",
       "freq                          2021  \n",
       "mean                           NaN  \n",
       "std                            NaN  \n",
       "min                            NaN  \n",
       "25%                            NaN  \n",
       "50%                            NaN  \n",
       "75%                            NaN  \n",
       "max                            NaN  "
      ]
     },
     "execution_count": 5,
     "metadata": {},
     "output_type": "execute_result"
    }
   ],
   "source": [
    "df.describe(include='all')"
   ]
  },
  {
   "cell_type": "code",
   "execution_count": 6,
   "metadata": {
    "scrolled": true
   },
   "outputs": [
    {
     "data": {
      "text/plain": [
       "(2224, 11)"
      ]
     },
     "execution_count": 6,
     "metadata": {},
     "output_type": "execute_result"
    }
   ],
   "source": [
    "df.shape"
   ]
  },
  {
   "cell_type": "code",
   "execution_count": 7,
   "metadata": {},
   "outputs": [],
   "source": [
    "df= df.drop(['Ticket #','Time'], axis=1)\n"
   ]
  },
  {
   "cell_type": "code",
   "execution_count": 8,
   "metadata": {},
   "outputs": [
    {
     "data": {
      "text/html": [
       "<div>\n",
       "<style scoped>\n",
       "    .dataframe tbody tr th:only-of-type {\n",
       "        vertical-align: middle;\n",
       "    }\n",
       "\n",
       "    .dataframe tbody tr th {\n",
       "        vertical-align: top;\n",
       "    }\n",
       "\n",
       "    .dataframe thead th {\n",
       "        text-align: right;\n",
       "    }\n",
       "</style>\n",
       "<table border=\"1\" class=\"dataframe\">\n",
       "  <thead>\n",
       "    <tr style=\"text-align: right;\">\n",
       "      <th></th>\n",
       "      <th>Customer Complaint</th>\n",
       "      <th>Date</th>\n",
       "      <th>Date_month_year</th>\n",
       "      <th>Received Via</th>\n",
       "      <th>City</th>\n",
       "      <th>State</th>\n",
       "      <th>Zip code</th>\n",
       "      <th>Status</th>\n",
       "      <th>Filing on Behalf of Someone</th>\n",
       "    </tr>\n",
       "  </thead>\n",
       "  <tbody>\n",
       "    <tr>\n",
       "      <th>0</th>\n",
       "      <td>Comcast Cable Internet Speeds</td>\n",
       "      <td>22-04-15</td>\n",
       "      <td>22-Apr-15</td>\n",
       "      <td>Customer Care Call</td>\n",
       "      <td>Abingdon</td>\n",
       "      <td>Maryland</td>\n",
       "      <td>21009</td>\n",
       "      <td>Closed</td>\n",
       "      <td>No</td>\n",
       "    </tr>\n",
       "    <tr>\n",
       "      <th>1</th>\n",
       "      <td>Payment disappear - service got disconnected</td>\n",
       "      <td>04-08-15</td>\n",
       "      <td>04-Aug-15</td>\n",
       "      <td>Internet</td>\n",
       "      <td>Acworth</td>\n",
       "      <td>Georgia</td>\n",
       "      <td>30102</td>\n",
       "      <td>Closed</td>\n",
       "      <td>No</td>\n",
       "    </tr>\n",
       "    <tr>\n",
       "      <th>2</th>\n",
       "      <td>Speed and Service</td>\n",
       "      <td>18-04-15</td>\n",
       "      <td>18-Apr-15</td>\n",
       "      <td>Internet</td>\n",
       "      <td>Acworth</td>\n",
       "      <td>Georgia</td>\n",
       "      <td>30101</td>\n",
       "      <td>Closed</td>\n",
       "      <td>Yes</td>\n",
       "    </tr>\n",
       "    <tr>\n",
       "      <th>3</th>\n",
       "      <td>Comcast Imposed a New Usage Cap of 300GB that ...</td>\n",
       "      <td>05-07-15</td>\n",
       "      <td>05-Jul-15</td>\n",
       "      <td>Internet</td>\n",
       "      <td>Acworth</td>\n",
       "      <td>Georgia</td>\n",
       "      <td>30101</td>\n",
       "      <td>Open</td>\n",
       "      <td>Yes</td>\n",
       "    </tr>\n",
       "    <tr>\n",
       "      <th>4</th>\n",
       "      <td>Comcast not working and no service to boot</td>\n",
       "      <td>26-05-15</td>\n",
       "      <td>26-May-15</td>\n",
       "      <td>Internet</td>\n",
       "      <td>Acworth</td>\n",
       "      <td>Georgia</td>\n",
       "      <td>30101</td>\n",
       "      <td>Solved</td>\n",
       "      <td>No</td>\n",
       "    </tr>\n",
       "  </tbody>\n",
       "</table>\n",
       "</div>"
      ],
      "text/plain": [
       "                                  Customer Complaint      Date  \\\n",
       "0                      Comcast Cable Internet Speeds  22-04-15   \n",
       "1       Payment disappear - service got disconnected  04-08-15   \n",
       "2                                  Speed and Service  18-04-15   \n",
       "3  Comcast Imposed a New Usage Cap of 300GB that ...  05-07-15   \n",
       "4         Comcast not working and no service to boot  26-05-15   \n",
       "\n",
       "  Date_month_year        Received Via      City     State  Zip code  Status  \\\n",
       "0       22-Apr-15  Customer Care Call  Abingdon  Maryland     21009  Closed   \n",
       "1       04-Aug-15            Internet   Acworth   Georgia     30102  Closed   \n",
       "2       18-Apr-15            Internet   Acworth   Georgia     30101  Closed   \n",
       "3       05-Jul-15            Internet   Acworth   Georgia     30101    Open   \n",
       "4       26-May-15            Internet   Acworth   Georgia     30101  Solved   \n",
       "\n",
       "  Filing on Behalf of Someone  \n",
       "0                          No  \n",
       "1                          No  \n",
       "2                         Yes  \n",
       "3                         Yes  \n",
       "4                          No  "
      ]
     },
     "execution_count": 8,
     "metadata": {},
     "output_type": "execute_result"
    }
   ],
   "source": [
    "df.head()"
   ]
  },
  {
   "cell_type": "markdown",
   "metadata": {},
   "source": [
    "### Task-1 Provide the trend chart for the number of complaints at monthly and daily granularity levels."
   ]
  },
  {
   "cell_type": "code",
   "execution_count": 9,
   "metadata": {},
   "outputs": [],
   "source": [
    "# Pandas to_datetime() method helps to convert string Date time into Python Date time object. \n",
    "df['Date_month_year']=df['Date_month_year'].apply(pd.to_datetime)\n",
    "# Setting 'Date_month_year' as index\n",
    "df=df.set_index('Date_month_year')"
   ]
  },
  {
   "cell_type": "markdown",
   "metadata": {},
   "source": [
    "##### plotting monthly chart"
   ]
  },
  {
   "cell_type": "code",
   "execution_count": 10,
   "metadata": {},
   "outputs": [
    {
     "data": {
      "text/plain": [
       "Text(0.5, 1.0, 'MONTHLY TREND CHART')"
      ]
     },
     "execution_count": 10,
     "metadata": {},
     "output_type": "execute_result"
    },
    {
     "data": {
      "image/png": "[encoded data removed]",
      "text/plain": [
       "<Figure size 432x288 with 1 Axes>"
      ]
     },
     "metadata": {
      "needs_background": "light"
     },
     "output_type": "display_data"
    }
   ],
   "source": [
    "# dataframe.groupby() function is splitting the data into groups accoring to frequency\n",
    "months= df.groupby(pd.Grouper(freq=\"M\")).size().plot()\n",
    "plt.xlabel(\"MONTHS\")\n",
    "plt.ylabel(\"FREQUENCY\")\n",
    "plt.title(\"MONTHLY TREND CHART\")"
   ]
  },
  {
   "cell_type": "markdown",
   "metadata": {},
   "source": [
    "##### INSIGHTS:- From the above trend chart, we can clearly see that complaints for the month of June are maximum"
   ]
  },
  {
   "cell_type": "code",
   "execution_count": 11,
   "metadata": {},
   "outputs": [
    {
     "data": {
      "text/plain": [
       "24-06-15    218\n",
       "23-06-15    190\n",
       "25-06-15     98\n",
       "26-06-15     55\n",
       "30-06-15     53\n",
       "29-06-15     51\n",
       "18-06-15     47\n",
       "06-12-15     43\n",
       "Name: Date, dtype: int64"
      ]
     },
     "execution_count": 11,
     "metadata": {},
     "output_type": "execute_result"
    }
   ],
   "source": [
    "#value_counts() function is getting a Series containing counts of unique values for Date column.\n",
    "df['Date'].value_counts(dropna=False)[:8]"
   ]
  },
  {
   "cell_type": "markdown",
   "metadata": {},
   "source": [
    "##### plotting daily chart"
   ]
  },
  {
   "cell_type": "code",
   "execution_count": 12,
   "metadata": {},
   "outputs": [
    {
     "data": {
      "text/plain": [
       "Text(0.5, 1.0, 'DAILY TREND CHART')"
      ]
     },
     "execution_count": 12,
     "metadata": {},
     "output_type": "execute_result"
    },
    {
     "data": {
      "image/png": "[encoded data removed]",
      "text/plain": [
       "<Figure size 432x432 with 1 Axes>"
      ]
     },
     "metadata": {
      "needs_background": "light"
     },
     "output_type": "display_data"
    }
   ],
   "source": [
    "df= df.sort_values(by='Date')\n",
    "plt.figure(figsize=(6,6))\n",
    "df['Date'].value_counts().plot()\n",
    "plt.xlabel(\"Date\")\n",
    "plt.ylabel(\"FREQUENCY\")\n",
    "plt.title(\"DAILY TREND CHART\")"
   ]
  },
  {
   "cell_type": "code",
   "execution_count": null,
   "metadata": {},
   "outputs": [],
   "source": []
  },
  {
   "cell_type": "markdown",
   "metadata": {},
   "source": [
    "### Task-2 Provide a table with the frequency of complaint types."
   ]
  },
  {
   "cell_type": "code",
   "execution_count": 13,
   "metadata": {},
   "outputs": [
    {
     "data": {
      "text/plain": [
       "Comcast                     83\n",
       "Comcast Internet            18\n",
       "Comcast Data Cap            17\n",
       "comcast                     13\n",
       "Comcast Data Caps           11\n",
       "Data Caps                   11\n",
       "Comcast Billing             11\n",
       "Unfair Billing Practices     9\n",
       "Internet speed               8\n",
       "Name: Customer Complaint, dtype: int64"
      ]
     },
     "execution_count": 13,
     "metadata": {},
     "output_type": "execute_result"
    }
   ],
   "source": [
    "df['Customer Complaint'].value_counts(dropna=False)[:9]"
   ]
  },
  {
   "cell_type": "markdown",
   "metadata": {},
   "source": [
    "### Task 3Which complaint types are maximum i.e., around internet, network issues, or across any other domains."
   ]
  },
  {
   "cell_type": "code",
   "execution_count": 14,
   "metadata": {},
   "outputs": [
    {
     "data": {
      "text/plain": [
       "<AxesSubplot:>"
      ]
     },
     "execution_count": 14,
     "metadata": {},
     "output_type": "execute_result"
    },
    {
     "data": {
      "image/png": "[encoded data removed]",
      "text/plain": [
       "<Figure size 432x288 with 1 Axes>"
      ]
     },
     "metadata": {
      "needs_background": "light"
     },
     "output_type": "display_data"
    }
   ],
   "source": [
    "df['Customer Complaint'].value_counts(dropna=False)[:9].plot.bar()"
   ]
  },
  {
   "cell_type": "markdown",
   "metadata": {},
   "source": [
    "##### INSIGHTS:- From the above chart we can see that the comcast type complaints are maximum."
   ]
  },
  {
   "cell_type": "markdown",
   "metadata": {},
   "source": [
    "### 4.Create a new categorical variable with value as Open and Closed. Open & Pending is to be categorized as Open and Closed & Solved is to be categorized as Closed."
   ]
  },
  {
   "cell_type": "code",
   "execution_count": 15,
   "metadata": {},
   "outputs": [
    {
     "data": {
      "text/plain": [
       "array(['Closed', 'Open', 'Solved', 'Pending'], dtype=object)"
      ]
     },
     "execution_count": 15,
     "metadata": {},
     "output_type": "execute_result"
    }
   ],
   "source": [
    "df.Status.unique()"
   ]
  },
  {
   "cell_type": "code",
   "execution_count": 16,
   "metadata": {},
   "outputs": [
    {
     "data": {
      "text/html": [
       "<div>\n",
       "<style scoped>\n",
       "    .dataframe tbody tr th:only-of-type {\n",
       "        vertical-align: middle;\n",
       "    }\n",
       "\n",
       "    .dataframe tbody tr th {\n",
       "        vertical-align: top;\n",
       "    }\n",
       "\n",
       "    .dataframe thead th {\n",
       "        text-align: right;\n",
       "    }\n",
       "</style>\n",
       "<table border=\"1\" class=\"dataframe\">\n",
       "  <thead>\n",
       "    <tr style=\"text-align: right;\">\n",
       "      <th></th>\n",
       "      <th>Customer Complaint</th>\n",
       "      <th>Date</th>\n",
       "      <th>Received Via</th>\n",
       "      <th>City</th>\n",
       "      <th>State</th>\n",
       "      <th>Zip code</th>\n",
       "      <th>Filing on Behalf of Someone</th>\n",
       "      <th>newStatus</th>\n",
       "    </tr>\n",
       "    <tr>\n",
       "      <th>Date_month_year</th>\n",
       "      <th></th>\n",
       "      <th></th>\n",
       "      <th></th>\n",
       "      <th></th>\n",
       "      <th></th>\n",
       "      <th></th>\n",
       "      <th></th>\n",
       "      <th></th>\n",
       "    </tr>\n",
       "  </thead>\n",
       "  <tbody>\n",
       "    <tr>\n",
       "      <th>2015-01-04</th>\n",
       "      <td>Fraudulent claims reported to collections agency</td>\n",
       "      <td>04-01-15</td>\n",
       "      <td>Customer Care Call</td>\n",
       "      <td>Atlanta</td>\n",
       "      <td>Georgia</td>\n",
       "      <td>30312</td>\n",
       "      <td>No</td>\n",
       "      <td>Closed</td>\n",
       "    </tr>\n",
       "    <tr>\n",
       "      <th>2015-01-04</th>\n",
       "      <td>Comcast refusal of service</td>\n",
       "      <td>04-01-15</td>\n",
       "      <td>Customer Care Call</td>\n",
       "      <td>Wayne</td>\n",
       "      <td>Pennsylvania</td>\n",
       "      <td>19087</td>\n",
       "      <td>No</td>\n",
       "      <td>Closed</td>\n",
       "    </tr>\n",
       "    <tr>\n",
       "      <th>2015-01-04</th>\n",
       "      <td>Comcast Cable</td>\n",
       "      <td>04-01-15</td>\n",
       "      <td>Internet</td>\n",
       "      <td>Franklin</td>\n",
       "      <td>Tennessee</td>\n",
       "      <td>37067</td>\n",
       "      <td>No</td>\n",
       "      <td>Closed</td>\n",
       "    </tr>\n",
       "    <tr>\n",
       "      <th>2015-01-04</th>\n",
       "      <td>Data Overages</td>\n",
       "      <td>04-01-15</td>\n",
       "      <td>Internet</td>\n",
       "      <td>Savannah</td>\n",
       "      <td>Georgia</td>\n",
       "      <td>31406</td>\n",
       "      <td>No</td>\n",
       "      <td>Closed</td>\n",
       "    </tr>\n",
       "    <tr>\n",
       "      <th>2015-01-04</th>\n",
       "      <td>Comcast</td>\n",
       "      <td>04-01-15</td>\n",
       "      <td>Internet</td>\n",
       "      <td>North Huntingdon</td>\n",
       "      <td>Pennsylvania</td>\n",
       "      <td>15642</td>\n",
       "      <td>No</td>\n",
       "      <td>Closed</td>\n",
       "    </tr>\n",
       "    <tr>\n",
       "      <th>...</th>\n",
       "      <td>...</td>\n",
       "      <td>...</td>\n",
       "      <td>...</td>\n",
       "      <td>...</td>\n",
       "      <td>...</td>\n",
       "      <td>...</td>\n",
       "      <td>...</td>\n",
       "      <td>...</td>\n",
       "    </tr>\n",
       "    <tr>\n",
       "      <th>2015-05-31</th>\n",
       "      <td>Comcast</td>\n",
       "      <td>31-05-15</td>\n",
       "      <td>Customer Care Call</td>\n",
       "      <td>Beaverton</td>\n",
       "      <td>Oregon</td>\n",
       "      <td>97006</td>\n",
       "      <td>No</td>\n",
       "      <td>Open</td>\n",
       "    </tr>\n",
       "    <tr>\n",
       "      <th>2015-05-31</th>\n",
       "      <td>Comcast of East Windsor NJ Complaint</td>\n",
       "      <td>31-05-15</td>\n",
       "      <td>Internet</td>\n",
       "      <td>East Windsor</td>\n",
       "      <td>New Jersey</td>\n",
       "      <td>8520</td>\n",
       "      <td>No</td>\n",
       "      <td>Open</td>\n",
       "    </tr>\n",
       "    <tr>\n",
       "      <th>2015-05-31</th>\n",
       "      <td>n/a (b) (6)</td>\n",
       "      <td>31-05-15</td>\n",
       "      <td>Internet</td>\n",
       "      <td>Loganville</td>\n",
       "      <td>Georgia</td>\n",
       "      <td>30052</td>\n",
       "      <td>No</td>\n",
       "      <td>Open</td>\n",
       "    </tr>\n",
       "    <tr>\n",
       "      <th>2015-05-31</th>\n",
       "      <td>Complaint against Comcast for incredibly bad s...</td>\n",
       "      <td>31-05-15</td>\n",
       "      <td>Customer Care Call</td>\n",
       "      <td>Edgewood</td>\n",
       "      <td>Washington</td>\n",
       "      <td>98372</td>\n",
       "      <td>No</td>\n",
       "      <td>Open</td>\n",
       "    </tr>\n",
       "    <tr>\n",
       "      <th>2015-05-31</th>\n",
       "      <td>Questionable internet slowdown</td>\n",
       "      <td>31-05-15</td>\n",
       "      <td>Customer Care Call</td>\n",
       "      <td>Peabody</td>\n",
       "      <td>Massachusetts</td>\n",
       "      <td>1960</td>\n",
       "      <td>No</td>\n",
       "      <td>Closed</td>\n",
       "    </tr>\n",
       "  </tbody>\n",
       "</table>\n",
       "<p>2224 rows × 8 columns</p>\n",
       "</div>"
      ],
      "text/plain": [
       "                                                Customer Complaint      Date  \\\n",
       "Date_month_year                                                                \n",
       "2015-01-04        Fraudulent claims reported to collections agency  04-01-15   \n",
       "2015-01-04                              Comcast refusal of service  04-01-15   \n",
       "2015-01-04                                           Comcast Cable  04-01-15   \n",
       "2015-01-04                                           Data Overages  04-01-15   \n",
       "2015-01-04                                                 Comcast  04-01-15   \n",
       "...                                                            ...       ...   \n",
       "2015-05-31                                                 Comcast  31-05-15   \n",
       "2015-05-31                    Comcast of East Windsor NJ Complaint  31-05-15   \n",
       "2015-05-31                                             n/a (b) (6)  31-05-15   \n",
       "2015-05-31       Complaint against Comcast for incredibly bad s...  31-05-15   \n",
       "2015-05-31                          Questionable internet slowdown  31-05-15   \n",
       "\n",
       "                       Received Via              City          State  \\\n",
       "Date_month_year                                                        \n",
       "2015-01-04       Customer Care Call           Atlanta        Georgia   \n",
       "2015-01-04       Customer Care Call             Wayne   Pennsylvania   \n",
       "2015-01-04                 Internet          Franklin      Tennessee   \n",
       "2015-01-04                 Internet          Savannah        Georgia   \n",
       "2015-01-04                 Internet  North Huntingdon   Pennsylvania   \n",
       "...                             ...               ...            ...   \n",
       "2015-05-31       Customer Care Call         Beaverton         Oregon   \n",
       "2015-05-31                 Internet      East Windsor     New Jersey   \n",
       "2015-05-31                 Internet        Loganville        Georgia   \n",
       "2015-05-31       Customer Care Call          Edgewood     Washington   \n",
       "2015-05-31       Customer Care Call           Peabody  Massachusetts   \n",
       "\n",
       "                 Zip code Filing on Behalf of Someone newStatus  \n",
       "Date_month_year                                                  \n",
       "2015-01-04          30312                          No    Closed  \n",
       "2015-01-04          19087                          No    Closed  \n",
       "2015-01-04          37067                          No    Closed  \n",
       "2015-01-04          31406                          No    Closed  \n",
       "2015-01-04          15642                          No    Closed  \n",
       "...                   ...                         ...       ...  \n",
       "2015-05-31          97006                          No      Open  \n",
       "2015-05-31           8520                          No      Open  \n",
       "2015-05-31          30052                          No      Open  \n",
       "2015-05-31          98372                          No      Open  \n",
       "2015-05-31           1960                          No    Closed  \n",
       "\n",
       "[2224 rows x 8 columns]"
      ]
     },
     "execution_count": 16,
     "metadata": {},
     "output_type": "execute_result"
    }
   ],
   "source": [
    "df[\"newStatus\"] = [\"Open\" if Status==\"Open\" or Status==\"Pending\" else \"Closed\" for Status in df[\"Status\"]]\n",
    "df= df.drop(['Status'], axis=1)\n",
    "df"
   ]
  },
  {
   "cell_type": "code",
   "execution_count": null,
   "metadata": {},
   "outputs": [],
   "source": []
  },
  {
   "cell_type": "markdown",
   "metadata": {},
   "source": [
    "### 5. Which state has the maximum complaints"
   ]
  },
  {
   "cell_type": "code",
   "execution_count": 17,
   "metadata": {},
   "outputs": [
    {
     "data": {
      "text/plain": [
       "State\n",
       "Georgia       288\n",
       "Florida       240\n",
       "California    220\n",
       "Illinois      164\n",
       "Tennessee     143\n",
       "dtype: int64"
      ]
     },
     "execution_count": 17,
     "metadata": {},
     "output_type": "execute_result"
    }
   ],
   "source": [
    "df.groupby([\"State\"]).size().sort_values(ascending=False)[:5]"
   ]
  },
  {
   "cell_type": "markdown",
   "metadata": {},
   "source": [
    "##### INSIGHTS:- From the above table, we can clearly see that Georgia has maximum complaints."
   ]
  },
  {
   "cell_type": "code",
   "execution_count": null,
   "metadata": {},
   "outputs": [],
   "source": []
  },
  {
   "cell_type": "markdown",
   "metadata": {},
   "source": [
    "### Task-6 Provide state wise status of complaints in a stacked bar chart."
   ]
  },
  {
   "cell_type": "code",
   "execution_count": 18,
   "metadata": {},
   "outputs": [
    {
     "name": "stdout",
     "output_type": "stream",
     "text": [
      "newStatus             Closed  Open\n",
      "State                             \n",
      "Alabama                 17.0   9.0\n",
      "Arizona                 14.0   6.0\n",
      "Arkansas                 6.0   NaN\n",
      "California             159.0  61.0\n",
      "Colorado                58.0  22.0\n",
      "Connecticut              9.0   3.0\n",
      "Delaware                 8.0   4.0\n",
      "District Of Columbia    14.0   2.0\n",
      "District of Columbia     1.0   NaN\n",
      "Florida                201.0  39.0\n",
      "Georgia                208.0  80.0\n",
      "Illinois               135.0  29.0\n",
      "Indiana                 50.0   9.0\n",
      "Iowa                     1.0   NaN\n",
      "Kansas                   1.0   1.0\n",
      "Kentucky                 4.0   3.0\n",
      "Louisiana               12.0   1.0\n",
      "Maine                    3.0   2.0\n",
      "Maryland                63.0  15.0\n",
      "Massachusetts           50.0  11.0\n",
      "Michigan                92.0  23.0\n",
      "Minnesota               29.0   4.0\n",
      "Mississippi             23.0  16.0\n",
      "Missouri                 3.0   1.0\n",
      "Montana                  1.0   NaN\n",
      "Nevada                   1.0   NaN\n",
      "New Hampshire            8.0   4.0\n",
      "New Jersey              56.0  19.0\n",
      "New Mexico              11.0   4.0\n",
      "New York                 6.0   NaN\n",
      "North Carolina           3.0   NaN\n",
      "Ohio                     3.0   NaN\n",
      "Oregon                  36.0  13.0\n",
      "Pennsylvania           110.0  20.0\n",
      "Rhode Island             1.0   NaN\n",
      "South Carolina          15.0   3.0\n",
      "Tennessee               96.0  47.0\n",
      "Texas                   49.0  22.0\n",
      "Utah                    16.0   6.0\n",
      "Vermont                  2.0   1.0\n",
      "Virginia                49.0  11.0\n",
      "Washington              75.0  23.0\n",
      "West Virginia            8.0   3.0\n"
     ]
    }
   ],
   "source": [
    "Status_complaints = df.groupby([\"State\",\"newStatus\"]).size().unstack()\n",
    "print(Status_complaints)"
   ]
  },
  {
   "cell_type": "code",
   "execution_count": 19,
   "metadata": {},
   "outputs": [
    {
     "data": {
      "text/plain": [
       "<AxesSubplot:xlabel='State'>"
      ]
     },
     "execution_count": 19,
     "metadata": {},
     "output_type": "execute_result"
    },
    {
     "data": {
      "image/png": "[encoded data removed]",
      "text/plain": [
       "<Figure size 720x720 with 1 Axes>"
      ]
     },
     "metadata": {
      "needs_background": "light"
     },
     "output_type": "display_data"
    }
   ],
   "source": [
    "Status_complaints.plot.bar(figsize=(10,10), stacked=True)"
   ]
  },
  {
   "cell_type": "markdown",
   "metadata": {},
   "source": [
    "##### INSIGHTS:- From the above chart, we can clearly see that Georgia has maximum complaints."
   ]
  },
  {
   "cell_type": "markdown",
   "metadata": {},
   "source": [
    "### Task-7  state which has the highest percentage of unresolved complaints"
   ]
  },
  {
   "cell_type": "code",
   "execution_count": 20,
   "metadata": {},
   "outputs": [
    {
     "name": "stdout",
     "output_type": "stream",
     "text": [
      "Closed    1707\n",
      "Open       517\n",
      "Name: newStatus, dtype: int64\n"
     ]
    }
   ],
   "source": [
    "print(df['newStatus'].value_counts())"
   ]
  },
  {
   "cell_type": "code",
   "execution_count": 21,
   "metadata": {},
   "outputs": [
    {
     "name": "stdout",
     "output_type": "stream",
     "text": [
      "newStatus             Closed  Open  Unresolved_cmp_prct\n",
      "State                                                  \n",
      "Georgia                208.0  80.0            15.473888\n",
      "California             159.0  61.0            11.798839\n",
      "Tennessee               96.0  47.0             9.090909\n",
      "Florida                201.0  39.0             7.543520\n",
      "Illinois               135.0  29.0             5.609284\n",
      "Washington              75.0  23.0             4.448743\n",
      "Michigan                92.0  23.0             4.448743\n",
      "Colorado                58.0  22.0             4.255319\n",
      "Texas                   49.0  22.0             4.255319\n",
      "Pennsylvania           110.0  20.0             3.868472\n",
      "New Jersey              56.0  19.0             3.675048\n",
      "Mississippi             23.0  16.0             3.094778\n",
      "Maryland                63.0  15.0             2.901354\n",
      "Oregon                  36.0  13.0             2.514507\n",
      "Virginia                49.0  11.0             2.127660\n",
      "Massachusetts           50.0  11.0             2.127660\n",
      "Alabama                 17.0   9.0             1.740812\n",
      "Indiana                 50.0   9.0             1.740812\n",
      "Utah                    16.0   6.0             1.160542\n",
      "Arizona                 14.0   6.0             1.160542\n",
      "New Hampshire            8.0   4.0             0.773694\n",
      "New Mexico              11.0   4.0             0.773694\n",
      "Minnesota               29.0   4.0             0.773694\n",
      "Delaware                 8.0   4.0             0.773694\n",
      "West Virginia            8.0   3.0             0.580271\n",
      "Connecticut              9.0   3.0             0.580271\n",
      "Kentucky                 4.0   3.0             0.580271\n",
      "South Carolina          15.0   3.0             0.580271\n",
      "Maine                    3.0   2.0             0.386847\n",
      "District Of Columbia    14.0   2.0             0.386847\n",
      "Kansas                   1.0   1.0             0.193424\n",
      "Vermont                  2.0   1.0             0.193424\n",
      "Missouri                 3.0   1.0             0.193424\n",
      "Louisiana               12.0   1.0             0.193424\n",
      "Montana                  1.0   0.0             0.000000\n",
      "Rhode Island             1.0   0.0             0.000000\n",
      "Ohio                     3.0   0.0             0.000000\n",
      "District of Columbia     1.0   0.0             0.000000\n",
      "North Carolina           3.0   0.0             0.000000\n",
      "New York                 6.0   0.0             0.000000\n",
      "Nevada                   1.0   0.0             0.000000\n",
      "Arkansas                 6.0   0.0             0.000000\n",
      "Iowa                     1.0   0.0             0.000000\n"
     ]
    },
    {
     "data": {
      "text/plain": [
       "<AxesSubplot:xlabel='State'>"
      ]
     },
     "execution_count": 21,
     "metadata": {},
     "output_type": "execute_result"
    },
    {
     "data": {
      "image/png": "[encoded data removed]",
      "text/plain": [
       "<Figure size 432x288 with 1 Axes>"
      ]
     },
     "metadata": {
      "needs_background": "light"
     },
     "output_type": "display_data"
    }
   ],
   "source": [
    "unresolved_data = df.groupby([\"State\",'newStatus']).size().unstack().fillna(0).sort_values(by='Open',ascending=False)\n",
    "unresolved_data['Unresolved_cmp_prct'] = unresolved_data['Open']/unresolved_data['Open'].sum()*100\n",
    "print(unresolved_data)\n",
    "unresolved_data.plot()"
   ]
  },
  {
   "cell_type": "markdown",
   "metadata": {},
   "source": [
    "##### INSIGHTS:- From the table generated above we can see that Georgia has maximum unresolved complaints i.e. 80."
   ]
  },
  {
   "cell_type": "markdown",
   "metadata": {},
   "source": [
    "### Task-8 Provide the percentage of complaints resolved till date, which were received through the Internet and customer care calls"
   ]
  },
  {
   "cell_type": "code",
   "execution_count": 22,
   "metadata": {},
   "outputs": [
    {
     "data": {
      "text/plain": [
       "Received Via\n",
       "Customer Care Call    50.615114\n",
       "Internet              49.384886\n",
       "Name: resolved, dtype: float64"
      ]
     },
     "execution_count": 22,
     "metadata": {},
     "output_type": "execute_result"
    }
   ],
   "source": [
    "resolved_data = df.groupby(['Received Via','newStatus']).size().unstack().fillna(0)\n",
    "resolved_data['resolved'] = resolved_data['Closed']/resolved_data['Closed'].sum()*100\n",
    "resolved_data['resolved']"
   ]
  },
  {
   "cell_type": "code",
   "execution_count": 23,
   "metadata": {},
   "outputs": [
    {
     "data": {
      "text/plain": [
       "<AxesSubplot:xlabel='Received Via'>"
      ]
     },
     "execution_count": 23,
     "metadata": {},
     "output_type": "execute_result"
    },
    {
     "data": {
      "image/png": "[encoded data removed]",
      "text/plain": [
       "<Figure size 576x576 with 1 Axes>"
      ]
     },
     "metadata": {
      "needs_background": "light"
     },
     "output_type": "display_data"
    }
   ],
   "source": [
    "resolved_data.plot(kind=\"bar\", figsize=(8,8))"
   ]
  },
  {
   "cell_type": "markdown",
   "metadata": {},
   "source": [
    "##### INSIGHTS:- From the above pie chart we can clearly see that there are total 50.61% Complaints resolved.\n"
   ]
  },
  {
   "cell_type": "code",
   "execution_count": null,
   "metadata": {},
   "outputs": [],
   "source": []
  }
 ],
 "metadata": {
  "kernelspec": {
   "display_name": "Python 3",
   "language": "python",
   "name": "python3"
  },
  "language_info": {
   "codemirror_mode": {
    "name": "ipython",
    "version": 3
   },
   "file_extension": ".py",
   "mimetype": "text/x-python",
   "name": "python",
   "nbconvert_exporter": "python",
   "pygments_lexer": "ipython3",
   "version": "3.8.5"
  }
 },
 "nbformat": 4,
 "nbformat_minor": 4
}
